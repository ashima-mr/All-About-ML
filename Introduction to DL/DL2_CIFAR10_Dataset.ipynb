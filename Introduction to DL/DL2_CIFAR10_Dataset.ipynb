{
  "nbformat": 4,
  "nbformat_minor": 0,
  "metadata": {
    "colab": {
      "provenance": []
    },
    "kernelspec": {
      "name": "python3",
      "display_name": "Python 3"
    },
    "language_info": {
      "name": "python"
    }
  },
  "cells": [
    {
      "cell_type": "code",
      "execution_count": 11,
      "metadata": {
        "id": "9p4ek_PYC8e1"
      },
      "outputs": [],
      "source": [
        "import numpy as np\n",
        "import tensorflow as tf\n",
        "from tensorflow.keras.models import Sequential\n",
        "from tensorflow.keras.layers import Conv2D, MaxPooling2D, Flatten, Dense, Dropout\n",
        "from tensorflow.keras.utils import to_categorical, plot_model\n",
        "from tensorflow.keras.datasets import cifar10\n",
        "import matplotlib as plt\n",
        "from matplotlib import pyplot"
      ]
    },
    {
      "cell_type": "code",
      "source": [
        "(x_train, y_train), (x_test, y_test) = cifar10.load_data()"
      ],
      "metadata": {
        "id": "8mElXjx-ECLi"
      },
      "execution_count": 12,
      "outputs": []
    },
    {
      "cell_type": "code",
      "source": [
        "x_train, x_test = x_train / 255.0, x_test / 255.0 #normalize the data"
      ],
      "metadata": {
        "id": "0TMRvcxrEPaS"
      },
      "execution_count": 13,
      "outputs": []
    },
    {
      "cell_type": "code",
      "source": [
        "y_train = to_categorical(y_train, 10)\n",
        "y_test = to_categorical(y_test, 10)"
      ],
      "metadata": {
        "id": "azHS1JhUExiC"
      },
      "execution_count": 14,
      "outputs": []
    },
    {
      "cell_type": "markdown",
      "source": [
        "The CIFAR-10 dataset consists of color images with dimensions (32, 32, 3) for each image (32x32 pixels with 3 color channels: red, green, and blue). Unlike the MNIST dataset, which contains grayscale images, the CIFAR-10 images are already in the correct format (height, width, channels) for a convolutional neural network (CNN), therefore no reshaping.\n",
        "\n",
        "\n",
        "```\n",
        " Conv2D(no. of filters, filter shape, activation func, input shape)\n",
        " MaxPooling2D(shape of pooling window)\n",
        "```\n",
        "\n",
        "\n",
        "\n"
      ],
      "metadata": {
        "id": "MGhI2APVFCro"
      }
    },
    {
      "cell_type": "code",
      "source": [
        "model = Sequential()\n",
        "\n",
        "model.add(Conv2D(32, (3, 3), activation='relu', input_shape=(32, 32, 3))) # (30,30,32)\n",
        "model.add(MaxPooling2D((2, 2))) # (15, 15, 64)\n",
        "model.add(Conv2D(64, (3, 3), activation='relu')) # (13,13, 64)\n",
        "model.add(MaxPooling2D((2, 2))) # (6,6,64)\n",
        "model.add(Conv2D(64, (3, 3), activation='relu')) # (4,4,64)\n",
        "model.add(Flatten()) # 4x4x64 = 1024\n",
        "model.add(Dense(64, activation='relu')) # 64\n",
        "model.add(Dense(10, activation='softmax')) #10\n",
        "\n",
        "model.summary()"
      ],
      "metadata": {
        "colab": {
          "base_uri": "https://localhost:8080/"
        },
        "id": "CUhHwsbhFK7-",
        "outputId": "f5026eec-aa9b-4ca3-e8a9-96ed4e85862a"
      },
      "execution_count": 9,
      "outputs": [
        {
          "output_type": "stream",
          "name": "stdout",
          "text": [
            "Model: \"sequential_2\"\n",
            "_________________________________________________________________\n",
            " Layer (type)                Output Shape              Param #   \n",
            "=================================================================\n",
            " conv2d (Conv2D)             (None, 30, 30, 32)        896       \n",
            "                                                                 \n",
            " max_pooling2d (MaxPooling2  (None, 15, 15, 32)        0         \n",
            " D)                                                              \n",
            "                                                                 \n",
            " conv2d_1 (Conv2D)           (None, 13, 13, 64)        18496     \n",
            "                                                                 \n",
            " max_pooling2d_1 (MaxPoolin  (None, 6, 6, 64)          0         \n",
            " g2D)                                                            \n",
            "                                                                 \n",
            " conv2d_2 (Conv2D)           (None, 4, 4, 64)          36928     \n",
            "                                                                 \n",
            " flatten (Flatten)           (None, 1024)              0         \n",
            "                                                                 \n",
            " dense (Dense)               (None, 64)                65600     \n",
            "                                                                 \n",
            " dense_1 (Dense)             (None, 10)                650       \n",
            "                                                                 \n",
            "=================================================================\n",
            "Total params: 122570 (478.79 KB)\n",
            "Trainable params: 122570 (478.79 KB)\n",
            "Non-trainable params: 0 (0.00 Byte)\n",
            "_________________________________________________________________\n"
          ]
        }
      ]
    },
    {
      "cell_type": "markdown",
      "source": [
        "Adam > SDG for CNN"
      ],
      "metadata": {
        "id": "amM3h8tIxSqu"
      }
    },
    {
      "cell_type": "code",
      "source": [
        "model.compile(optimizer='adam',\n",
        "              loss='categorical_crossentropy',\n",
        "              metrics=['accuracy'])"
      ],
      "metadata": {
        "id": "7e1XVue3xQJO"
      },
      "execution_count": 10,
      "outputs": []
    },
    {
      "cell_type": "code",
      "source": [
        "history = model.fit(x_train, y_train, epochs=10, validation_data=(x_test, y_test))"
      ],
      "metadata": {
        "colab": {
          "base_uri": "https://localhost:8080/"
        },
        "id": "kms3aC2KxRNx",
        "outputId": "59734b0b-97bd-4b2f-9590-d377329b5796"
      },
      "execution_count": 11,
      "outputs": [
        {
          "output_type": "stream",
          "name": "stdout",
          "text": [
            "Epoch 1/10\n",
            "1563/1563 [==============================] - 75s 47ms/step - loss: 1.5375 - accuracy: 0.4363 - val_loss: 1.3333 - val_accuracy: 0.5156\n",
            "Epoch 2/10\n",
            "1563/1563 [==============================] - 67s 43ms/step - loss: 1.1781 - accuracy: 0.5816 - val_loss: 1.0778 - val_accuracy: 0.6190\n",
            "Epoch 3/10\n",
            "1563/1563 [==============================] - 66s 42ms/step - loss: 1.0321 - accuracy: 0.6367 - val_loss: 1.0046 - val_accuracy: 0.6425\n",
            "Epoch 4/10\n",
            "1563/1563 [==============================] - 67s 43ms/step - loss: 0.9400 - accuracy: 0.6675 - val_loss: 1.0485 - val_accuracy: 0.6415\n",
            "Epoch 5/10\n",
            "1563/1563 [==============================] - 66s 42ms/step - loss: 0.8698 - accuracy: 0.6938 - val_loss: 0.9194 - val_accuracy: 0.6771\n",
            "Epoch 6/10\n",
            "1563/1563 [==============================] - 68s 44ms/step - loss: 0.8164 - accuracy: 0.7148 - val_loss: 0.8761 - val_accuracy: 0.6911\n",
            "Epoch 7/10\n",
            "1563/1563 [==============================] - 68s 43ms/step - loss: 0.7644 - accuracy: 0.7304 - val_loss: 0.8704 - val_accuracy: 0.6977\n",
            "Epoch 8/10\n",
            "1563/1563 [==============================] - 66s 42ms/step - loss: 0.7193 - accuracy: 0.7482 - val_loss: 0.8657 - val_accuracy: 0.7035\n",
            "Epoch 9/10\n",
            "1563/1563 [==============================] - 68s 44ms/step - loss: 0.6870 - accuracy: 0.7593 - val_loss: 0.8833 - val_accuracy: 0.7021\n",
            "Epoch 10/10\n",
            "1563/1563 [==============================] - 66s 42ms/step - loss: 0.6495 - accuracy: 0.7726 - val_loss: 0.8449 - val_accuracy: 0.7133\n"
          ]
        }
      ]
    },
    {
      "cell_type": "code",
      "source": [
        "test_loss, test_acc = model.evaluate(x_test, y_test, verbose=0)\n",
        "print(\"Test Accuracy:\", test_acc)"
      ],
      "metadata": {
        "colab": {
          "base_uri": "https://localhost:8080/"
        },
        "id": "ttZiDX1cxjjD",
        "outputId": "d3096a94-2e94-4940-b8f2-9b9d31c1f62f"
      },
      "execution_count": 13,
      "outputs": [
        {
          "output_type": "stream",
          "name": "stdout",
          "text": [
            "Test Accuracy: 0.7132999897003174\n"
          ]
        }
      ]
    },
    {
      "cell_type": "markdown",
      "source": [
        "# Parameter Adjustment 1"
      ],
      "metadata": {
        "id": "jd28nGZh12Sb"
      }
    },
    {
      "cell_type": "code",
      "source": [
        "model1 = Sequential()\n",
        "\n",
        "model1.add(Conv2D(32, (3, 3), activation='relu', input_shape=(32, 32, 3)))\n",
        "model1.add(Conv2D(32, (3, 3), activation='relu'))\n",
        "model1.add(MaxPooling2D((2, 2)))\n",
        "model1.add(Dropout(0.25))\n",
        "\n",
        "model1.add(Conv2D(64, (3, 3), activation='relu'))\n",
        "model1.add(Conv2D(64, (3, 3), activation='relu'))\n",
        "model1.add(MaxPooling2D((2, 2)))\n",
        "model1.add(Dropout(0.25))\n",
        "\n",
        "model1.add(Flatten())\n",
        "model1.add(Dense(256, activation='relu'))\n",
        "model1.add(Dropout(0.5))\n",
        "model1.add(Dense(10, activation='softmax'))"
      ],
      "metadata": {
        "id": "dGtgcGxg17XC"
      },
      "execution_count": 16,
      "outputs": []
    },
    {
      "cell_type": "code",
      "source": [
        "model1.compile(optimizer='adam',\n",
        "              loss='categorical_crossentropy',\n",
        "              metrics=['accuracy'])"
      ],
      "metadata": {
        "id": "dFTQKsqO2Tt2"
      },
      "execution_count": 18,
      "outputs": []
    },
    {
      "cell_type": "code",
      "source": [
        "model1.summary()"
      ],
      "metadata": {
        "colab": {
          "base_uri": "https://localhost:8080/"
        },
        "id": "Jj-yQ0Ky2Wll",
        "outputId": "89841521-0c0f-4269-fb7f-f86acfcd98ac"
      },
      "execution_count": 19,
      "outputs": [
        {
          "output_type": "stream",
          "name": "stdout",
          "text": [
            "Model: \"sequential_4\"\n",
            "_________________________________________________________________\n",
            " Layer (type)                Output Shape              Param #   \n",
            "=================================================================\n",
            " conv2d_7 (Conv2D)           (None, 30, 30, 32)        896       \n",
            "                                                                 \n",
            " conv2d_8 (Conv2D)           (None, 28, 28, 32)        9248      \n",
            "                                                                 \n",
            " max_pooling2d_4 (MaxPoolin  (None, 14, 14, 32)        0         \n",
            " g2D)                                                            \n",
            "                                                                 \n",
            " dropout_3 (Dropout)         (None, 14, 14, 32)        0         \n",
            "                                                                 \n",
            " conv2d_9 (Conv2D)           (None, 12, 12, 64)        18496     \n",
            "                                                                 \n",
            " conv2d_10 (Conv2D)          (None, 10, 10, 64)        36928     \n",
            "                                                                 \n",
            " max_pooling2d_5 (MaxPoolin  (None, 5, 5, 64)          0         \n",
            " g2D)                                                            \n",
            "                                                                 \n",
            " dropout_4 (Dropout)         (None, 5, 5, 64)          0         \n",
            "                                                                 \n",
            " flatten_2 (Flatten)         (None, 1600)              0         \n",
            "                                                                 \n",
            " dense_4 (Dense)             (None, 256)               409856    \n",
            "                                                                 \n",
            " dropout_5 (Dropout)         (None, 256)               0         \n",
            "                                                                 \n",
            " dense_5 (Dense)             (None, 10)                2570      \n",
            "                                                                 \n",
            "=================================================================\n",
            "Total params: 477994 (1.82 MB)\n",
            "Trainable params: 477994 (1.82 MB)\n",
            "Non-trainable params: 0 (0.00 Byte)\n",
            "_________________________________________________________________\n"
          ]
        }
      ]
    },
    {
      "cell_type": "code",
      "source": [
        "history1 = model1.fit(x_train, y_train, epochs=10, validation_data=(x_test, y_test))"
      ],
      "metadata": {
        "colab": {
          "base_uri": "https://localhost:8080/"
        },
        "id": "RrEK9wFU2cg7",
        "outputId": "c03465e1-3af0-4a1a-d7f5-6aae9534ea73"
      },
      "execution_count": 20,
      "outputs": [
        {
          "output_type": "stream",
          "name": "stdout",
          "text": [
            "Epoch 1/10\n",
            "1563/1563 [==============================] - 172s 109ms/step - loss: 1.5646 - accuracy: 0.4283 - val_loss: 1.2516 - val_accuracy: 0.5527\n",
            "Epoch 2/10\n",
            "1563/1563 [==============================] - 165s 106ms/step - loss: 1.2243 - accuracy: 0.5644 - val_loss: 1.0247 - val_accuracy: 0.6355\n",
            "Epoch 3/10\n",
            "1563/1563 [==============================] - 168s 107ms/step - loss: 1.0828 - accuracy: 0.6189 - val_loss: 0.9313 - val_accuracy: 0.6689\n",
            "Epoch 4/10\n",
            "1563/1563 [==============================] - 171s 109ms/step - loss: 0.9914 - accuracy: 0.6517 - val_loss: 0.9140 - val_accuracy: 0.6806\n",
            "Epoch 5/10\n",
            "1563/1563 [==============================] - 164s 105ms/step - loss: 0.9260 - accuracy: 0.6752 - val_loss: 0.8088 - val_accuracy: 0.7201\n",
            "Epoch 6/10\n",
            "1563/1563 [==============================] - 164s 105ms/step - loss: 0.8830 - accuracy: 0.6916 - val_loss: 0.8101 - val_accuracy: 0.7123\n",
            "Epoch 7/10\n",
            "1563/1563 [==============================] - 164s 105ms/step - loss: 0.8392 - accuracy: 0.7069 - val_loss: 0.7835 - val_accuracy: 0.7284\n",
            "Epoch 8/10\n",
            "1563/1563 [==============================] - 165s 106ms/step - loss: 0.8102 - accuracy: 0.7164 - val_loss: 0.7392 - val_accuracy: 0.7403\n",
            "Epoch 9/10\n",
            "1563/1563 [==============================] - 162s 104ms/step - loss: 0.7826 - accuracy: 0.7231 - val_loss: 0.7701 - val_accuracy: 0.7284\n",
            "Epoch 10/10\n",
            "1563/1563 [==============================] - 164s 105ms/step - loss: 0.7630 - accuracy: 0.7319 - val_loss: 0.7263 - val_accuracy: 0.7494\n"
          ]
        }
      ]
    },
    {
      "cell_type": "code",
      "source": [
        "test_loss1, test_acc1 = model1.evaluate(x_test, y_test, verbose=0)\n",
        "print(\"Test Accuracy:\", test_acc1)"
      ],
      "metadata": {
        "colab": {
          "base_uri": "https://localhost:8080/"
        },
        "id": "x3b2dBmf2kFe",
        "outputId": "fbc2acd3-48d4-4cf0-891c-550bcca7ccf6"
      },
      "execution_count": 21,
      "outputs": [
        {
          "output_type": "stream",
          "name": "stdout",
          "text": [
            "Test Accuracy: 0.7494000196456909\n"
          ]
        }
      ]
    },
    {
      "cell_type": "markdown",
      "source": [
        "# Parameter Adjustment 2"
      ],
      "metadata": {
        "id": "MYNesDdy--ci"
      }
    },
    {
      "cell_type": "code",
      "source": [
        "model2 = Sequential()\n",
        "\n",
        "model2.add(Conv2D(64, (3, 3), activation='relu', input_shape=(32, 32, 3))) # (30,30,32)\n",
        "model2.add(MaxPooling2D((2, 2))) # (15, 15, 64)\n",
        "model2.add(Conv2D(128, (3, 3), activation='relu')) # (13,13, 64)\n",
        "model2.add(MaxPooling2D((2, 2))) # (6,6,64)\n",
        "model2.add(Conv2D(64, (3, 3), activation='relu')) # (4,4,64)\n",
        "model2.add(Flatten()) # 4x4x64 = 1024\n",
        "model2.add(Dense(32, activation='relu')) # 64\n",
        "model2.add(Dense(10, activation='softmax')) #10\n",
        "\n",
        "model2.summary()"
      ],
      "metadata": {
        "colab": {
          "base_uri": "https://localhost:8080/"
        },
        "id": "GNshv45d_Bau",
        "outputId": "f51f390b-194d-4c9d-a379-914b84e12cba"
      },
      "execution_count": 15,
      "outputs": [
        {
          "output_type": "stream",
          "name": "stdout",
          "text": [
            "Model: \"sequential_1\"\n",
            "_________________________________________________________________\n",
            " Layer (type)                Output Shape              Param #   \n",
            "=================================================================\n",
            " conv2d_3 (Conv2D)           (None, 30, 30, 64)        1792      \n",
            "                                                                 \n",
            " max_pooling2d_2 (MaxPoolin  (None, 15, 15, 64)        0         \n",
            " g2D)                                                            \n",
            "                                                                 \n",
            " conv2d_4 (Conv2D)           (None, 13, 13, 128)       73856     \n",
            "                                                                 \n",
            " max_pooling2d_3 (MaxPoolin  (None, 6, 6, 128)         0         \n",
            " g2D)                                                            \n",
            "                                                                 \n",
            " conv2d_5 (Conv2D)           (None, 4, 4, 64)          73792     \n",
            "                                                                 \n",
            " flatten_1 (Flatten)         (None, 1024)              0         \n",
            "                                                                 \n",
            " dense_2 (Dense)             (None, 32)                32800     \n",
            "                                                                 \n",
            " dense_3 (Dense)             (None, 10)                330       \n",
            "                                                                 \n",
            "=================================================================\n",
            "Total params: 182570 (713.16 KB)\n",
            "Trainable params: 182570 (713.16 KB)\n",
            "Non-trainable params: 0 (0.00 Byte)\n",
            "_________________________________________________________________\n"
          ]
        }
      ]
    },
    {
      "cell_type": "code",
      "source": [
        "model2.compile(optimizer='adam',\n",
        "              loss='categorical_crossentropy',\n",
        "              metrics=['accuracy'])"
      ],
      "metadata": {
        "id": "wqwP9w-1_e9Y"
      },
      "execution_count": 16,
      "outputs": []
    },
    {
      "cell_type": "code",
      "source": [
        "history=model2.fit(x_train, y_train, validation_data=(x_test,y_test), epochs=10, batch_size=10)"
      ],
      "metadata": {
        "colab": {
          "base_uri": "https://localhost:8080/"
        },
        "id": "f3H4_baP_p-M",
        "outputId": "5bf3548b-69ce-40ed-9e14-de08bdd2d26d"
      },
      "execution_count": 17,
      "outputs": [
        {
          "output_type": "stream",
          "name": "stdout",
          "text": [
            "Epoch 1/10\n",
            "5000/5000 [==============================] - 216s 43ms/step - loss: 1.5468 - accuracy: 0.4347 - val_loss: 1.2919 - val_accuracy: 0.5490\n",
            "Epoch 2/10\n",
            "5000/5000 [==============================] - 195s 39ms/step - loss: 1.1544 - accuracy: 0.5899 - val_loss: 1.1086 - val_accuracy: 0.6108\n",
            "Epoch 3/10\n",
            "5000/5000 [==============================] - 197s 39ms/step - loss: 1.0041 - accuracy: 0.6466 - val_loss: 1.0165 - val_accuracy: 0.6465\n",
            "Epoch 4/10\n",
            "5000/5000 [==============================] - 205s 41ms/step - loss: 0.9087 - accuracy: 0.6816 - val_loss: 0.9857 - val_accuracy: 0.6611\n",
            "Epoch 5/10\n",
            "5000/5000 [==============================] - 194s 39ms/step - loss: 0.8329 - accuracy: 0.7075 - val_loss: 0.9491 - val_accuracy: 0.6759\n",
            "Epoch 6/10\n",
            "5000/5000 [==============================] - 206s 41ms/step - loss: 0.7759 - accuracy: 0.7288 - val_loss: 0.9109 - val_accuracy: 0.6842\n",
            "Epoch 7/10\n",
            "5000/5000 [==============================] - 196s 39ms/step - loss: 0.7233 - accuracy: 0.7479 - val_loss: 0.9255 - val_accuracy: 0.6869\n",
            "Epoch 8/10\n",
            "5000/5000 [==============================] - 197s 39ms/step - loss: 0.6811 - accuracy: 0.7614 - val_loss: 0.9066 - val_accuracy: 0.6968\n",
            "Epoch 9/10\n",
            "5000/5000 [==============================] - 207s 41ms/step - loss: 0.6448 - accuracy: 0.7729 - val_loss: 0.9331 - val_accuracy: 0.6988\n",
            "Epoch 10/10\n",
            "5000/5000 [==============================] - 196s 39ms/step - loss: 0.6114 - accuracy: 0.7838 - val_loss: 0.9295 - val_accuracy: 0.6931\n"
          ]
        }
      ]
    },
    {
      "cell_type": "code",
      "source": [
        "test_loss2, test_acc2 = model2.evaluate(x_test, y_test, verbose=0)\n",
        "print(\"Test Accuracy:\", test_acc2)"
      ],
      "metadata": {
        "colab": {
          "base_uri": "https://localhost:8080/"
        },
        "id": "ZkITeUpi_0wb",
        "outputId": "134535e5-ee2a-47a4-9eb4-d34a187b712d"
      },
      "execution_count": 18,
      "outputs": [
        {
          "output_type": "stream",
          "name": "stdout",
          "text": [
            "Test Accuracy: 0.6930999755859375\n"
          ]
        }
      ]
    }
  ]
}