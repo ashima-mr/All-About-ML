{
 "cells": [
  {
   "cell_type": "markdown",
   "metadata": {
    "id": "_VcEQiq0unSt"
   },
   "source": [
    "# **Exploratory Data Analysis (EDA)**\n",
    "*   Load a dataset\n",
    "*   statistical summaries\n",
    "*   data visualization\n",
    "\n",
    "\n",
    "\n",
    "\n"
   ]
  },
  {
   "cell_type": "markdown",
   "metadata": {
    "id": "YTQCoBTDvtR8"
   },
   "source": [
    "# Python Libraries for EDA\n",
    "\n",
    "* numpy\n",
    "* pandas\n",
    "* matplotlib\n",
    "\n",
    "\n",
    "\n"
   ]
  },
  {
   "cell_type": "markdown",
   "metadata": {
    "id": "wHgLKC50wZlV"
   },
   "source": [
    "# numpy\n",
    "NumPy is a library for the Python programming language, adding support for large, multi-dimensional arrays and matrices, along with a large collection of high-level mathematical functions to operate on these arrays"
   ]
  },
  {
   "cell_type": "markdown",
   "metadata": {
    "id": "TPrZXHYHw-g9"
   },
   "source": [
    "# Array\n",
    "A numpy array is a grid of values, all of the same type, and is indexed by a tuple of nonnegative integers. The number of dimensions is the rank of the array; the shape of an array is a tuple of integers giving the size of the array along each dimension.\n",
    "\n",
    "In Numpy dimensions are called axes. The number of axes is rank. For example, the coordinates of a point in 3D space [1, 2, 1] is an array of rank 1, because it has one axis."
   ]
  },
  {
   "cell_type": "code",
   "execution_count": 2,
   "metadata": {
    "id": "QjxGlP1luVCz"
   },
   "outputs": [
    {
     "name": "stdout",
     "output_type": "stream",
     "text": [
      "<class 'numpy.ndarray'>\n",
      "[1 2 3]\n",
      "(3,)\n",
      "1 2 3\n",
      "[5 2 3]\n",
      "(2, 3)\n",
      "1 2 4\n"
     ]
    }
   ],
   "source": [
    "import numpy as np\n",
    "\n",
    "a = np.array([1, 2, 3])   # Create a 1-D (rank 1) array from a list\n",
    "print(type(a))            # Prints \"<class 'numpy.ndarray'>\"\n",
    "print(a)                  # Prints array a\n",
    "print(a.shape)            # Prints \"(3,)\"  i.e. 1 dimenion with 3 elements\n",
    "print(a[0], a[1], a[2])   # Prints \"1 2 3\"\n",
    "a[0] = 5                  # Change an element of the array\n",
    "print(a)                  # Prints \"[5, 2, 3]\"\n",
    "\n",
    "bmat = np.array([[1,2,3],[4,5,6]])    # Create a 2D (rank 2) array\n",
    "#bmat - build a matrix object from a string or nested array\n",
    "print(bmat.shape)                     # Prints \"(2, 3)\" 2 dimensions \n",
    "print(bmat[0, 0], bmat[0, 1], bmat[1, 0])   # Prints \"1 2 4\""
   ]
  },
  {
   "cell_type": "code",
   "execution_count": 2,
   "metadata": {
    "id": "kGJrBCmA-0MJ"
   },
   "outputs": [],
   "source": [
    "#create a 3D array of shape (3,2,2) i.e 3 2 x 2 matrices\n",
    "cmat = np.array([[1,2,3],[4,5,6],[7,8,9]])"
   ]
  },
  {
   "cell_type": "code",
   "execution_count": 4,
   "metadata": {},
   "outputs": [
    {
     "name": "stdout",
     "output_type": "stream",
     "text": [
      "int64\n"
     ]
    }
   ],
   "source": [
    "print(a.dtype)\n",
    "#dtype - data type objects - decribes how the bytes in the fixed-size block of memory\n",
    "#corresponding to an array item should be interpreted"
   ]
  },
  {
   "cell_type": "code",
   "execution_count": 5,
   "metadata": {
    "id": "4Fz-oypyoaDW"
   },
   "outputs": [
    {
     "name": "stdout",
     "output_type": "stream",
     "text": [
      "float64\n"
     ]
    }
   ],
   "source": [
    "R=np.array([1.2,3.5])\n",
    "print(R.dtype)"
   ]
  },
  {
   "cell_type": "code",
   "execution_count": 6,
   "metadata": {
    "id": "_meSscfc_nZD"
   },
   "outputs": [
    {
     "name": "stdout",
     "output_type": "stream",
     "text": [
      "<class 'numpy.ndarray'>\n",
      "float64\n",
      "<class 'numpy.ndarray'>\n",
      "float64\n"
     ]
    }
   ],
   "source": [
    "#creating float array\n",
    "Y=np.array([1.4, 4.5],dtype=np.float64)\n",
    "print(type(Y))\n",
    "print(Y.dtype)\n",
    "Y1=np.array([1.4, 4.5],dtype=float)\n",
    "print(type(Y1))\n",
    "print(Y1.dtype)"
   ]
  },
  {
   "cell_type": "markdown",
   "metadata": {
    "id": "xeb4BvlzAvlH"
   },
   "source": [
    "Extracting specific elements from the array"
   ]
  },
  {
   "cell_type": "code",
   "execution_count": 18,
   "metadata": {
    "id": "9Vj9BhGVA2Gu"
   },
   "outputs": [
    {
     "name": "stdout",
     "output_type": "stream",
     "text": [
      "[[ 1  2  3 11]\n",
      " [ 4  5  6 23]\n",
      " [ 7  8  9 56]]\n",
      "2\n",
      "[ 1  2  3 11]\n",
      "[1 4 7]\n",
      "[[1 2]\n",
      " [4 5]]\n"
     ]
    }
   ],
   "source": [
    "Z=np.array([[1,2,3,11],[4,5,6,23],[7,8,9,56]])\n",
    "print(Z)\n",
    "print(Z[0][1])\n",
    "print(Z[0,:]) # prints first row\n",
    "#write code to print first column \n",
    "print(Z[:,0])\n",
    "#write code to print submtarix first 2 rows and first 2 columns i.e [[1,2],[4,5]]\n",
    "print(Z[:2,:2])\n"
   ]
  },
  {
   "cell_type": "code",
   "execution_count": 25,
   "metadata": {
    "id": "v01FUHU2A2Em"
   },
   "outputs": [
    {
     "name": "stdout",
     "output_type": "stream",
     "text": [
      "[1 3 4 6 7 8 9]\n"
     ]
    }
   ],
   "source": [
    "#print all non-zero elments from matrix H\n",
    "H=np.array([[1,0,3,0],[0,4,0,6],[0,7,8,9]])\n",
    "print(H[np.nonzero(H)])"
   ]
  },
  {
   "cell_type": "markdown",
   "metadata": {
    "id": "DoNsC3zoylgF"
   },
   "source": [
    "Numpy also provides many functions to create arrays:"
   ]
  },
  {
   "cell_type": "markdown",
   "metadata": {
    "id": "CMAHXKQFy47U"
   },
   "source": [
    "# Array indexing\n",
    "Numpy offers several ways to index into arrays."
   ]
  },
  {
   "cell_type": "code",
   "execution_count": 28,
   "metadata": {
    "colab": {
     "base_uri": "https://localhost:8080/"
    },
    "executionInfo": {
     "elapsed": 396,
     "status": "ok",
     "timestamp": 1658811077216,
     "user": {
      "displayName": "jothi ramasamy",
      "userId": "05600303898970236765"
     },
     "user_tz": -330
    },
    "id": "M3NTCpqWzHj0",
    "outputId": "95e6c4ff-27b2-49d0-b65f-d18c4fbb4e63"
   },
   "outputs": [
    {
     "name": "stdout",
     "output_type": "stream",
     "text": [
      "[[1 2 3 4]\n",
      " [5 6 7 8]]\n",
      "2\n",
      "2\n",
      "[[77  2  3  4]\n",
      " [ 5  6  7  8]\n",
      " [ 9 10 11 12]]\n"
     ]
    }
   ],
   "source": [
    "# Create the following 2-D array with shape (3, 4)\n",
    "# [[ 1  2  3  4]\n",
    "#  [ 5  6  7  8]\n",
    "#  [ 9 10 11 12]]\n",
    "a = np.array([[ 1 , 2 , 3 , 4], [ 5 , 6 , 7 , 8],[ 9 ,10 ,11, 12]])\n",
    "\n",
    "#take slice of 0 to 2 from array a \n",
    "b =   a[0:2] #0 to 2\n",
    "print(b)\n",
    "# A slice of an array is a view into the same data, so modifying it will modify the original array.\n",
    "print(a[0, 1])   # Prints \"2\" \n",
    "b[0, 0] = 77     # b[0, 0] is the same piece of data as a[0, 1]\n",
    "print(a[0, 1])   # Prints \"77\"\n",
    "print(a)"
   ]
  },
  {
   "cell_type": "code",
   "execution_count": 30,
   "metadata": {
    "id": "Z6GpkS03zlBT"
   },
   "outputs": [
    {
     "name": "stdout",
     "output_type": "stream",
     "text": [
      "[[ 1  2  3]\n",
      " [ 4  5  6]\n",
      " [ 7  8  9]\n",
      " [10 11 12]]\n",
      "[ 1  6  7 11]\n"
     ]
    }
   ],
   "source": [
    "# Create a new array from which we will select elements\n",
    "a = np.array([[1,2,3], [4,5,6], [7,8,9], [10, 11, 12]])\n",
    "\n",
    "print(a)  # prints \"array([[ 1,  2,  3],\n",
    "          #                [ 4,  5,  6],\n",
    "          #                [ 7,  8,  9],\n",
    "          #                [10, 11, 12]])\"\n",
    "\n",
    "# Create an array of indices\n",
    "b = np.array([0, 2, 0, 1])\n",
    "\n",
    "# Select one element from each row of a using the indices in b , hint : use arange\n",
    "# this is known as 'fancy indexing'\n",
    "print(a[np.arange(0,4,1),b])  # Prints \"[ 1  6  7 11]\"\n",
    "\n"
   ]
  },
  {
   "cell_type": "code",
   "execution_count": 31,
   "metadata": {
    "id": "p-JTNVcOzzHM"
   },
   "outputs": [
    {
     "name": "stdout",
     "output_type": "stream",
     "text": [
      "[[False False]\n",
      " [ True  True]\n",
      " [ True  True]]\n",
      "[3 4 5 6]\n",
      "[3 4 5 6]\n"
     ]
    }
   ],
   "source": [
    "a = np.array([[1,2], [3, 4], [5, 6]])\n",
    "\n",
    "bool_idx = (a>2)     #write your code here to Find the elements of a that are bigger than 2;\n",
    "                     # this returns a numpy array of Booleans of the same\n",
    "                     # shape as a, where each slot of bool_idx tells\n",
    "                     # whether that element of a is > 2.\n",
    "\n",
    "print(bool_idx)      # Prints \"[[False False]\n",
    "                     #          [ True  True]\n",
    "                     #          [ True  True]]\"\n",
    "\n",
    "# We use boolean array indexing to construct a rank 1 array\n",
    "# consisting of the elements of a corresponding to the True values\n",
    "# of bool_idx\n",
    "print(a[bool_idx])  # Prints \"[3 4 5 6]\"\n",
    "\n",
    "# We can do all of the above in a single concise statement:\n",
    "print(a[a > 2])     # Prints \"[3 4 5 6]\""
   ]
  },
  {
   "cell_type": "markdown",
   "metadata": {
    "id": "tJEbgltO0R5U"
   },
   "source": [
    "# Array Math"
   ]
  },
  {
   "cell_type": "code",
   "execution_count": 32,
   "metadata": {
    "colab": {
     "base_uri": "https://localhost:8080/"
    },
    "executionInfo": {
     "elapsed": 428,
     "status": "ok",
     "timestamp": 1658394103123,
     "user": {
      "displayName": "jothi ramasamy",
      "userId": "05600303898970236765"
     },
     "user_tz": -330
    },
    "id": "43KuOb27_QGW",
    "outputId": "a167d5de-9f07-4bdd-8a6f-727761f0d594"
   },
   "outputs": [
    {
     "name": "stdout",
     "output_type": "stream",
     "text": [
      "[3 4 5 6]\n"
     ]
    }
   ],
   "source": [
    "X=np.array([1,2,3,4])\n",
    "X=X+2\n",
    "print(X)"
   ]
  },
  {
   "cell_type": "code",
   "execution_count": 37,
   "metadata": {
    "id": "cvMciGHi_NKQ"
   },
   "outputs": [
    {
     "name": "stdout",
     "output_type": "stream",
     "text": [
      "[[ 6.  8.]\n",
      " [10. 12.]]\n",
      "[[ 6.  8.]\n",
      " [10. 12.]]\n",
      "[[-4. -4.]\n",
      " [-4. -4.]]\n",
      "[[-4. -4.]\n",
      " [-4. -4.]]\n",
      "[[ 5. 12.]\n",
      " [21. 32.]]\n",
      "[[ 5. 12.]\n",
      " [21. 32.]]\n",
      "[[1.         1.41421356]\n",
      " [1.73205081 2.        ]]\n",
      "[[2.23606798 2.44948974]\n",
      " [2.64575131 2.82842712]]\n"
     ]
    }
   ],
   "source": [
    "x = np.array([[1,2],[3,4]], dtype=np.float64)\n",
    "y = np.array([[5,6],[7,8]], dtype=np.float64)\n",
    "\n",
    "# Elementwise sum; both produce the array\n",
    "# [[ 6.0  8.0]\n",
    "#  [10.0 12.0]]\n",
    "\n",
    "#write code here \n",
    "print(x+y)\n",
    "#or\n",
    "print(np.add(x,y))\n",
    "\n",
    "# Elementwise difference; both produce the array\n",
    "# [[-4.0 -4.0]\n",
    "#  [-4.0 -4.0]]\n",
    "\n",
    "#write code here \n",
    "print(x-y)\n",
    "#or\n",
    "print(np.subtract(x,y))\n",
    "\n",
    "# Elementwise product; both produce the array\n",
    "# [[ 5.0 12.0]\n",
    "#  [21.0 32.0]]\n",
    "\n",
    "#write code here \n",
    "print(x*y)\n",
    "#or\n",
    "print(np.multiply(x,y))\n",
    "\n",
    "# Elementwise square root; produces the array\n",
    "# [[ 1.          1.41421356]\n",
    "#  [ 1.73205081  2.        ]]\n",
    "#write your code here\n",
    "print(np.sqrt(x))\n",
    "print(np.sqrt(y))"
   ]
  },
  {
   "cell_type": "markdown",
   "metadata": {
    "id": "nDFkXUs9CZbd"
   },
   "source": [
    " How to represent missing values and infinite?\n",
    "\n",
    " Missing values can be represented using np.nan object, while np.inf represents infinite. Let’s place some in arr2d."
   ]
  },
  {
   "cell_type": "code",
   "execution_count": 38,
   "metadata": {
    "colab": {
     "base_uri": "https://localhost:8080/"
    },
    "executionInfo": {
     "elapsed": 336,
     "status": "ok",
     "timestamp": 1658472484423,
     "user": {
      "displayName": "jothi ramasamy",
      "userId": "05600303898970236765"
     },
     "user_tz": -330
    },
    "id": "wDlc1Q4GCD-u",
    "outputId": "1d7169d1-2936-42f5-96cb-3ad1c594be6e"
   },
   "outputs": [
    {
     "data": {
      "text/plain": [
       "array([[ 1.,  2.,  3.,  4.],\n",
       "       [ 3., nan, inf,  6.],\n",
       "       [ 5.,  6.,  7.,  8.]])"
      ]
     },
     "execution_count": 38,
     "metadata": {},
     "output_type": "execute_result"
    }
   ],
   "source": [
    "list2 = [[1, 2, 3, 4],[3, 4, 5, 6], [5, 6, 7, 8]]\n",
    "arr2 = np.array(list2, dtype='float')\n",
    "# Insert a nan and an inf\n",
    "arr2[1,1] = np.nan  # not a number\n",
    "arr2[1,2] = np.inf  # infinite\n",
    "arr2"
   ]
  },
  {
   "cell_type": "code",
   "execution_count": 39,
   "metadata": {
    "colab": {
     "base_uri": "https://localhost:8080/"
    },
    "executionInfo": {
     "elapsed": 405,
     "status": "ok",
     "timestamp": 1658472535857,
     "user": {
      "displayName": "jothi ramasamy",
      "userId": "05600303898970236765"
     },
     "user_tz": -330
    },
    "id": "HyAClk7Kqocr",
    "outputId": "b683d63b-81ab-4313-cb35-df3c6757c8d5"
   },
   "outputs": [
    {
     "data": {
      "text/plain": [
       "array([[ 1.,  2.,  3.,  4.],\n",
       "       [ 3., -1., -1.,  6.],\n",
       "       [ 5.,  6.,  7.,  8.]])"
      ]
     },
     "execution_count": 39,
     "metadata": {},
     "output_type": "execute_result"
    }
   ],
   "source": [
    "# Replace nan and inf with -1. Don't use arr2 == np.nan\n",
    "missing_bool = np.isnan(arr2) | np.isinf(arr2)\n",
    "arr2[missing_bool] = -1  \n",
    "arr2"
   ]
  },
  {
   "cell_type": "markdown",
   "metadata": {
    "id": "tFRruyZqqvFl"
   },
   "source": [
    "# Compute mean, min, max on the ndarray?"
   ]
  },
  {
   "cell_type": "code",
   "execution_count": 45,
   "metadata": {
    "id": "N56CDsyArFHm"
   },
   "outputs": [
    {
     "name": "stdout",
     "output_type": "stream",
     "text": [
      "Mean value is:  6.5\n",
      "Max value is:  12\n",
      "Min value is:  1\n",
      "Column wise minimum:  [1 2 3]\n",
      "Row wise minimum:  [ 1  4  7 10]\n"
     ]
    }
   ],
   "source": [
    "a = np.array([[1,2,3], [4,5,6], [7,8,9], [10, 11, 12]])\n",
    "print(\"Mean value is: \", np.mean(a)) #write code\n",
    "print(\"Max value is: \", np.amax(a)) #write code\n",
    "print(\"Min value is: \", np.amin(a)) #write code\n",
    "# Row wise and column wise min\n",
    "print(\"Column wise minimum: \", np.amin(a, axis=0)) #write code #use np.amin\n",
    "#axis =0 is column wise\n",
    "print(\"Row wise minimum: \", np.amin(a,axis=1)) #write code\n",
    "#axis = 1 is row wise"
   ]
  },
  {
   "cell_type": "markdown",
   "metadata": {
    "id": "8sSGu3GGrjRi"
   },
   "source": [
    "# Copy array"
   ]
  },
  {
   "cell_type": "code",
   "execution_count": 46,
   "metadata": {
    "colab": {
     "base_uri": "https://localhost:8080/"
    },
    "executionInfo": {
     "elapsed": 378,
     "status": "ok",
     "timestamp": 1658472804780,
     "user": {
      "displayName": "jothi ramasamy",
      "userId": "05600303898970236765"
     },
     "user_tz": -330
    },
    "id": "144CU-2crh_g",
    "outputId": "b9eb5ac6-09a4-4e59-fd51-588c2912642b"
   },
   "outputs": [
    {
     "data": {
      "text/plain": [
       "array([[100.,   2.,   3.,   4.],\n",
       "       [  3.,  -1.,  -1.,   6.],\n",
       "       [  5.,   6.,   7.,   8.]])"
      ]
     },
     "execution_count": 46,
     "metadata": {},
     "output_type": "execute_result"
    }
   ],
   "source": [
    "# Assign portion of arr2 to arr2a. Doesn't really create a new array.\n",
    "arr2a = arr2[:2,:2]  \n",
    "arr2a[:1, :1] = 100  # 100 will reflect in arr2\n",
    "arr2"
   ]
  },
  {
   "cell_type": "code",
   "execution_count": 48,
   "metadata": {
    "colab": {
     "base_uri": "https://localhost:8080/"
    },
    "executionInfo": {
     "elapsed": 5,
     "status": "ok",
     "timestamp": 1658472868045,
     "user": {
      "displayName": "jothi ramasamy",
      "userId": "05600303898970236765"
     },
     "user_tz": -330
    },
    "id": "Ie-suXBorrwJ",
    "outputId": "ecb7a511-898f-46cd-836f-51106eb36411"
   },
   "outputs": [
    {
     "data": {
      "text/plain": [
       "array([[100.,   2.,   3.,   4.],\n",
       "       [  3.,  -1.,  -1.,   6.],\n",
       "       [  5.,   6.,   7.,   8.]])"
      ]
     },
     "execution_count": 48,
     "metadata": {},
     "output_type": "execute_result"
    }
   ],
   "source": [
    "# Copy portion of arr2 to arr2b\n",
    "arr2b = arr2[:2, :2].copy()\n",
    "arr2b[:1, :1] = 101  # 101 will not reflect in arr2\n",
    "arr2"
   ]
  },
  {
   "cell_type": "markdown",
   "metadata": {
    "id": "nGSio9CWr_RK"
   },
   "source": [
    "# Reshaping and Flattening Multidimensional arrays\n",
    "\n",
    "Reshaping is changing the arrangement of items so that shape of the array changes while maintaining the same number of dimensions.\n",
    "\n",
    "Flattening, however, will convert a multi-dimensional array to a flat 1d array. And not any other shape."
   ]
  },
  {
   "cell_type": "code",
   "execution_count": 49,
   "metadata": {
    "colab": {
     "base_uri": "https://localhost:8080/"
    },
    "executionInfo": {
     "elapsed": 368,
     "status": "ok",
     "timestamp": 1658472933669,
     "user": {
      "displayName": "jothi ramasamy",
      "userId": "05600303898970236765"
     },
     "user_tz": -330
    },
    "id": "0JKzIEykr-YD",
    "outputId": "cd64f798-7a17-44f8-ea5a-e561813173b5"
   },
   "outputs": [
    {
     "data": {
      "text/plain": [
       "array([[100.,   2.,   3.],\n",
       "       [  4.,   3.,  -1.],\n",
       "       [ -1.,   6.,   5.],\n",
       "       [  6.,   7.,   8.]])"
      ]
     },
     "execution_count": 49,
     "metadata": {},
     "output_type": "execute_result"
    }
   ],
   "source": [
    "# Reshape a 3x4 array to 4x3 array\n",
    "arr2.reshape(4, 3)"
   ]
  },
  {
   "cell_type": "code",
   "execution_count": 50,
   "metadata": {
    "colab": {
     "base_uri": "https://localhost:8080/"
    },
    "executionInfo": {
     "elapsed": 354,
     "status": "ok",
     "timestamp": 1658473011903,
     "user": {
      "displayName": "jothi ramasamy",
      "userId": "05600303898970236765"
     },
     "user_tz": -330
    },
    "id": "0HVloRFUscjS",
    "outputId": "d31690e8-4754-4ea5-c1b4-d4bf2bfafcff"
   },
   "outputs": [
    {
     "data": {
      "text/plain": [
       "array([100.,   2.,   3.,   4.,   3.,  -1.,  -1.,   6.,   5.,   6.,   7.,\n",
       "         8.])"
      ]
     },
     "execution_count": 50,
     "metadata": {},
     "output_type": "execute_result"
    }
   ],
   "source": [
    "# Flatten it to a 1d array\n",
    "arr2.flatten()"
   ]
  },
  {
   "cell_type": "markdown",
   "metadata": {
    "id": "RwXTfRj3sl_6"
   },
   "source": [
    "# Sequences, Random numbers\n",
    "The np.arange function comes handy to create customised number sequences as ndarray."
   ]
  },
  {
   "cell_type": "code",
   "execution_count": 51,
   "metadata": {
    "colab": {
     "base_uri": "https://localhost:8080/"
    },
    "executionInfo": {
     "elapsed": 361,
     "status": "ok",
     "timestamp": 1658473090135,
     "user": {
      "displayName": "jothi ramasamy",
      "userId": "05600303898970236765"
     },
     "user_tz": -330
    },
    "id": "NAQwojZ7sqNP",
    "outputId": "9be9f708-2be2-43f0-ec0b-eabc10ebb658"
   },
   "outputs": [
    {
     "name": "stdout",
     "output_type": "stream",
     "text": [
      "[0 1 2 3 4]\n",
      "[0 1 2 3 4 5 6 7 8 9]\n",
      "[0 2 4 6 8]\n",
      "[10  9  8  7  6  5  4  3  2  1]\n"
     ]
    }
   ],
   "source": [
    "# Lower limit is 0 be default\n",
    "print(np.arange(5))  \n",
    "\n",
    "# 0 to 9\n",
    "print(np.arange(0, 10))  \n",
    "\n",
    "# 0 to 9 with step of 2\n",
    "print(np.arange(0, 10, 2))  \n",
    "\n",
    "# 10 to 1, decreasing order\n",
    "print(np.arange(10, 0, -1))"
   ]
  },
  {
   "cell_type": "code",
   "execution_count": 52,
   "metadata": {
    "colab": {
     "base_uri": "https://localhost:8080/"
    },
    "executionInfo": {
     "elapsed": 361,
     "status": "ok",
     "timestamp": 1658473160600,
     "user": {
      "displayName": "jothi ramasamy",
      "userId": "05600303898970236765"
     },
     "user_tz": -330
    },
    "id": "H-KrcLpFtBO2",
    "outputId": "39fbd529-7b0a-4b84-cd12-5b3b0c9d1a0d"
   },
   "outputs": [
    {
     "name": "stdout",
     "output_type": "stream",
     "text": [
      "0.2833188643813158\n",
      "[[0.449605   0.95255109]\n",
      " [0.35538784 0.63808754]]\n"
     ]
    }
   ],
   "source": [
    "# One random number between [0,1)\n",
    "print(np.random.random())\n",
    "\n",
    "# Random numbers between [0,1) of shape 2,2\n",
    "print(np.random.random(size=[2,2]))"
   ]
  },
  {
   "cell_type": "markdown",
   "metadata": {
    "id": "23Z8d0B8thx8"
   },
   "source": [
    "# Get the unique items and the counts"
   ]
  },
  {
   "cell_type": "code",
   "execution_count": 53,
   "metadata": {
    "colab": {
     "base_uri": "https://localhost:8080/"
    },
    "executionInfo": {
     "elapsed": 11,
     "status": "ok",
     "timestamp": 1658473337087,
     "user": {
      "displayName": "jothi ramasamy",
      "userId": "05600303898970236765"
     },
     "user_tz": -330
    },
    "id": "F9QilKuOtkKD",
    "outputId": "b3350e69-a2c5-42f1-8cef-bbd5b7d1a2f1"
   },
   "outputs": [
    {
     "name": "stdout",
     "output_type": "stream",
     "text": [
      "[8 8 3 7 7 0 4 2 5 2]\n",
      "Unique items :  [0 2 3 4 5 7 8]\n",
      "Counts       :  [1 2 1 1 1 2 2]\n"
     ]
    }
   ],
   "source": [
    "# Create random integers of size 10 between [0,10)\n",
    "np.random.seed(100)\n",
    "arr_rand = np.random.randint(0, 10, size=10)\n",
    "print(arr_rand)\n",
    "# Get the unique items and their counts\n",
    "uniqs, counts = np.unique(arr_rand, return_counts=True)\n",
    "print(\"Unique items : \", uniqs)\n",
    "print(\"Counts       : \", counts)"
   ]
  },
  {
   "cell_type": "markdown",
   "metadata": {
    "id": "CPgoL1mpEabP"
   },
   "source": [
    "# Exercises"
   ]
  },
  {
   "cell_type": "markdown",
   "metadata": {
    "id": "B-dLudJtEqpz"
   },
   "source": [
    "1. Create two 3 x 4 arrays A and B; output an array in which every element is an element-wise sum of the arrays A and B"
   ]
  },
  {
   "cell_type": "code",
   "execution_count": 54,
   "metadata": {
    "id": "WLhGCoxAEfDU"
   },
   "outputs": [
    {
     "name": "stdout",
     "output_type": "stream",
     "text": [
      "[[ 6  8 10 12]\n",
      " [ 4  6  8 10]\n",
      " [ 8 10 12 14]]\n"
     ]
    }
   ],
   "source": [
    "#code for Ex1\n",
    "a = np.array([[1, 2, 3, 4],[3, 4, 5, 6], [5, 6, 7, 8]])\n",
    "b = np.array([[5, 6, 7, 8], [1, 2, 3, 4],[3, 4, 5, 6]])\n",
    "print(a+b)"
   ]
  },
  {
   "cell_type": "markdown",
   "metadata": {
    "id": "XLE5uHe-FBcb"
   },
   "source": [
    "2. Create 4 x 4 identity matrix (use eye funciton)\n"
   ]
  },
  {
   "cell_type": "code",
   "execution_count": 55,
   "metadata": {
    "id": "hfqCbz_xGcke"
   },
   "outputs": [
    {
     "data": {
      "text/plain": [
       "array([[1, 0, 0, 0],\n",
       "       [0, 1, 0, 0],\n",
       "       [0, 0, 1, 0],\n",
       "       [0, 0, 0, 1]])"
      ]
     },
     "execution_count": 55,
     "metadata": {},
     "output_type": "execute_result"
    }
   ],
   "source": [
    "#code for Ex2\n",
    "np.eye(4, dtype=int)"
   ]
  },
  {
   "cell_type": "markdown",
   "metadata": {
    "id": "i1fLyoaNFZdD"
   },
   "source": [
    "3. create a 1D array whose values are from sequence 1 to 27. Convert this array into 3D array i.e. 3 x 3 x 3"
   ]
  },
  {
   "cell_type": "code",
   "execution_count": 59,
   "metadata": {
    "id": "wBMF8QWYGhI5"
   },
   "outputs": [
    {
     "data": {
      "text/plain": [
       "array([[[ 1,  2,  3],\n",
       "        [ 4,  5,  6],\n",
       "        [ 7,  8,  9]],\n",
       "\n",
       "       [[10, 11, 12],\n",
       "        [13, 14, 15],\n",
       "        [16, 17, 18]],\n",
       "\n",
       "       [[19, 20, 21],\n",
       "        [22, 23, 24],\n",
       "        [25, 26, 27]]])"
      ]
     },
     "execution_count": 59,
     "metadata": {},
     "output_type": "execute_result"
    }
   ],
   "source": [
    "#code for Ex3\n",
    "a = np.array(np.arange(1, 28, 1))\n",
    "a.reshape(3,3,3)"
   ]
  },
  {
   "cell_type": "markdown",
   "metadata": {
    "id": "eE3VzRQiGFA6"
   },
   "source": [
    "4. create a 3 x 3 float array Z and concert Convert all the elements of Z from float to integer datatype"
   ]
  },
  {
   "cell_type": "code",
   "execution_count": 64,
   "metadata": {
    "id": "kq-OJQ2hGjvr"
   },
   "outputs": [
    {
     "name": "stdout",
     "output_type": "stream",
     "text": [
      "[[1 2 3]\n",
      " [4 5 6]\n",
      " [7 8 9]]\n"
     ]
    }
   ],
   "source": [
    "#code for Ex4\n",
    "Z = np.array([[1,2,3],[4,5,6], [7, 8, 9]], dtype = 'float')\n",
    "print(Z.astype('int'))\n"
   ]
  },
  {
   "cell_type": "markdown",
   "metadata": {
    "id": "zkW7KK8uGagR"
   },
   "source": [
    "5. a1 = np.array([[1,2,3],\n",
    "               [4,5,6]])\n",
    "\n",
    "a2 = np.array([[7,8,9],\n",
    "               [10,11,12]])\n",
    "\n",
    "               stack a1 and a2 horizontally i.e. output array should be as follows\n",
    "               [[ 1  2  3  7  8  9]\n",
    "               [ 4  5  6 10 11 12]]"
   ]
  },
  {
   "cell_type": "code",
   "execution_count": 7,
   "metadata": {
    "id": "g2aqOngYG1NP",
    "scrolled": true
   },
   "outputs": [
    {
     "data": {
      "text/plain": [
       "array([[ 1,  2,  3,  7,  8,  9],\n",
       "       [ 4,  5,  6, 10, 11, 12]])"
      ]
     },
     "execution_count": 7,
     "metadata": {},
     "output_type": "execute_result"
    }
   ],
   "source": [
    "#code for Ex5\n",
    "a1 = np.array([[1,2,3],[4,5,6]])\n",
    "a2 = np.array([[7,8,9], [10,11,12]])\n",
    "np.hstack((a1,a2))"
   ]
  },
  {
   "cell_type": "markdown",
   "metadata": {
    "id": "mVUmETuSG1-L"
   },
   "source": [
    "6. stack a1 and a2 vertically \n",
    "[[ 1  2]\n",
    " [ 3  4]\n",
    " [ 5  6]\n",
    " [ 7  8]\n",
    " [ 9 10]\n",
    " [10 11]]"
   ]
  },
  {
   "cell_type": "code",
   "execution_count": 12,
   "metadata": {
    "id": "zOpEQenpHELE"
   },
   "outputs": [
    {
     "data": {
      "text/plain": [
       "array([[ 1,  2,  3],\n",
       "       [ 4,  5,  6],\n",
       "       [ 7,  8,  9],\n",
       "       [10, 11, 12]])"
      ]
     },
     "execution_count": 12,
     "metadata": {},
     "output_type": "execute_result"
    }
   ],
   "source": [
    "#code for Ex6\n",
    "np.vstack((a1,a2))"
   ]
  },
  {
   "cell_type": "markdown",
   "metadata": {
    "id": "j6sFEDAyJupL"
   },
   "source": [
    "7. Create a numpy array for the even number sequence from 1 to 100"
   ]
  },
  {
   "cell_type": "code",
   "execution_count": 13,
   "metadata": {
    "id": "j5T_PtIfKDak"
   },
   "outputs": [
    {
     "data": {
      "text/plain": [
       "array([  2,   4,   6,   8,  10,  12,  14,  16,  18,  20,  22,  24,  26,\n",
       "        28,  30,  32,  34,  36,  38,  40,  42,  44,  46,  48,  50,  52,\n",
       "        54,  56,  58,  60,  62,  64,  66,  68,  70,  72,  74,  76,  78,\n",
       "        80,  82,  84,  86,  88,  90,  92,  94,  96,  98, 100])"
      ]
     },
     "execution_count": 13,
     "metadata": {},
     "output_type": "execute_result"
    }
   ],
   "source": [
    "a1 = np.arange(2,101,2)\n",
    "a1"
   ]
  },
  {
   "cell_type": "markdown",
   "metadata": {
    "id": "qlO6xj3yKD4f"
   },
   "source": [
    "8. Find the indexes in which the elements in the 2 arrays A1 and A2 match\n",
    "A1 = np.array([10,2,3,4,5])\n",
    "\n",
    "A2 = np.array([10,3,2,4,5])"
   ]
  },
  {
   "cell_type": "code",
   "execution_count": 14,
   "metadata": {
    "id": "Dh-GbRveKiut"
   },
   "outputs": [
    {
     "name": "stdout",
     "output_type": "stream",
     "text": [
      "[ 2  3  4  5 10]\n"
     ]
    }
   ],
   "source": [
    "A1 = np.array([10,2,3,4,5])\n",
    "A2 = np.array([10,3,2,4,5])\n",
    "print(np.intersect1d(A1,A2))"
   ]
  },
  {
   "cell_type": "markdown",
   "metadata": {
    "id": "flB7ZgxhKjEf"
   },
   "source": [
    "9. create a 2-by-3 matrix with each and every value equal to 5"
   ]
  },
  {
   "cell_type": "code",
   "execution_count": 23,
   "metadata": {
    "id": "YMzp-DbcKw5s"
   },
   "outputs": [
    {
     "data": {
      "text/plain": [
       "array([[5, 5, 5],\n",
       "       [5, 5, 5]])"
      ]
     },
     "execution_count": 23,
     "metadata": {},
     "output_type": "execute_result"
    }
   ],
   "source": [
    "a3 = np.ones((2,3), dtype=int)\n",
    "a3[a3>0] = 5\n",
    "a3"
   ]
  },
  {
   "cell_type": "markdown",
   "metadata": {
    "id": "zUcYJglNKxHN"
   },
   "source": [
    "Output a 5-by-5 array of random integers between 0 (inclusive) and 10 (exclusive); Also print its transpose"
   ]
  },
  {
   "cell_type": "code",
   "execution_count": 25,
   "metadata": {
    "id": "LHOQrz0_LEa1"
   },
   "outputs": [
    {
     "data": {
      "text/plain": [
       "array([[8, 3, 6, 4, 1],\n",
       "       [7, 5, 8, 7, 9],\n",
       "       [4, 6, 4, 3, 2],\n",
       "       [0, 3, 0, 4, 2],\n",
       "       [2, 1, 3, 9, 4]])"
      ]
     },
     "execution_count": 25,
     "metadata": {},
     "output_type": "execute_result"
    }
   ],
   "source": [
    "np.random.randint(10, size=(5,5))"
   ]
  },
  {
   "cell_type": "markdown",
   "metadata": {
    "id": "kbVQhWs9LEvy"
   },
   "source": [
    "Output a 3-by-3 array of random numbers following normal distribution"
   ]
  },
  {
   "cell_type": "code",
   "execution_count": 27,
   "metadata": {
    "id": "6m2dLOaeLMOs"
   },
   "outputs": [
    {
     "data": {
      "text/plain": [
       "array([[ 1.2990403 ,  0.7715135 , -1.18700279],\n",
       "       [ 0.76644765, -0.829498  , -0.34290164],\n",
       "       [-0.76942343,  1.10770723,  0.54796794]])"
      ]
     },
     "execution_count": 27,
     "metadata": {},
     "output_type": "execute_result"
    }
   ],
   "source": [
    "np.random.randn(3,3)"
   ]
  },
  {
   "cell_type": "markdown",
   "metadata": {
    "id": "Hni7dWIoLLTT"
   },
   "source": []
  }
 ],
 "metadata": {
  "colab": {
   "authorship_tag": "ABX9TyPCIL2g7W1EJIoiQX0xhJcO",
   "collapsed_sections": [],
   "name": "CSE4020_ML_Lab1.ipynb",
   "provenance": []
  },
  "kernelspec": {
   "display_name": "Python 3 (ipykernel)",
   "language": "python",
   "name": "python3"
  },
  "language_info": {
   "codemirror_mode": {
    "name": "ipython",
    "version": 3
   },
   "file_extension": ".py",
   "mimetype": "text/x-python",
   "name": "python",
   "nbconvert_exporter": "python",
   "pygments_lexer": "ipython3",
   "version": "3.9.13"
  }
 },
 "nbformat": 4,
 "nbformat_minor": 1
}
